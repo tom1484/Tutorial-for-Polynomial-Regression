{
  "nbformat": 4,
  "nbformat_minor": 0,
  "metadata": {
    "colab": {
      "name": "Tutorial for Polynomial Regression.ipynb",
      "provenance": [],
      "collapsed_sections": []
    },
    "kernelspec": {
      "name": "python3",
      "display_name": "Python 3"
    }
  },
  "cells": [
    {
      "cell_type": "markdown",
      "metadata": {
        "id": "6z4NoWeUJMvs",
        "colab_type": "text"
      },
      "source": [
        "# **Tutorial for Polynomial Regression**\n",
        "\n",
        "First step, let's talk about **linear regression** because **polynomial regression** is a **higher-dimensional** version of **linear regression**."
      ]
    },
    {
      "cell_type": "markdown",
      "metadata": {
        "id": "8aAfMw4jKUfN",
        "colab_type": "text"
      },
      "source": [
        "## **Linear Regression**\n",
        "\n",
        "Assume we have some data that contains two features, we may want to find a **function** to fit one of the features as input and the other one as output. If the function is an **linear function** then what we do is called **linear regression**.\n",
        "\n",
        "For example:"
      ]
    },
    {
      "cell_type": "markdown",
      "metadata": {
        "id": "aFbTD5cVoZQd",
        "colab_type": "text"
      },
      "source": [
        "### **Mathematics**"
      ]
    },
    {
      "cell_type": "markdown",
      "metadata": {
        "id": "9ke8H-DZNg6E",
        "colab_type": "text"
      },
      "source": [
        "The data we want to do linear regression:\n",
        "\n",
        "![image.png](data:image/png;base64,iVBORw0KGgoAAAANSUhEUgAAAfEAAAE+CAYAAACdjCkcAAAgAElEQVR4Ae2dfcxtW1Xenyvf+AEUSKSWt37WiFobD4q01hgTlCJKNfIHFgXTev+CErFpNaSthA9DaVptKUoLFcQr1mLRQv8AbrXVhlvuPXwK9IqACCZSIU2KxNiW9jTPOfu5d5zxzrnWXGuvtff6eFay75xzzDHGHPO31t3PXnvv827AhwmYgAmYgAmYgAmYgAmYgAmYgAmYgAmYgAmYgAmYgAmYgAmYgAmYgAmYgAmYgAmYgAmYgAmYgAmYgAmYgAmYgAmYgAmYgAmYgAmYgAmYgAmsg8DDH/7wa1euXPHDDHwN+BrwNeBrYBfXAIBPrkOhG6qkgPswARMwARMwgb0QAHC1QR7X4WIR38tl632agAmYgAmQgEXc14EJmIAJmIAJrJSARXylJ85lm4AJmIAJmIBF3NeACZiACZiACayUgEV8pSfOZZuACZiACZiARdzXgAmYgAmYgAmslIBFfKUnzmWbgAmYgAmYgEXc14AJmIAJmIAJrJSARXylJ85lm4AJmIAJmIBF3NeACZiACZjA5gh86o//dHN7Km3IIl6iYpsJmIAJmMBqCVDAn3XbO67tQcgt4qu9TF24CZiACZhAjcAeBJx7t4jXrgDbTcAETMAENkFgy4JuEd/EJepNmIAJmIAJlAhs/a11i3jprNtmAiZgAiawGQK+E1/HL5HCP0W6mf/nvBETMAETMIEGAr4Tb4BkFxMwARMwARNYIgGL+BLPimsyARMwARMwgQYCFvEGSHYxARMwARMwgSUSsIgv8ay4JhMwARPYCYEtfensHHuxiO/kfxRv0wRMwASWRmBL//zrXHuxiC/tqnY9JmACJrAjAue4e50L7zn2YhGf62w6rwmYgAmYgAnMTMAiPjNgpzcBEzABEzCBuQhYxOci67wmYAImYAKbI3COt8y7IC5dxH8EwPsBvA/A6wA8sOuPx/kvtnWdas+ZgAmYgAkcQ+BcX17rqnnJIv5FAH4PwIMOwv3LAJ5pEe86nZ4zARMwAROYk4DvxLtU+OY5ivjHAfwZAPcF8CYA336zy80j34nPeek6twmYgAmYwNIILPlOnAr9HACfAfBJALfdLNmXRxbxpV1erscETMAETCASmPpOfski/jAAvw7gkQDuB+BXATz9snTj1sMmrl5cXERW7puACZiACZjAYgjM8Zn6kkX8qQBeFUT7BwG8PIwvdX0nvphr1YWYgAmYgAkUCOzpTvxxh2+mPxjALQBeA+DZl5Q7GCzihSvGJhMwARMwgc0SWPKdOOX5+QDuPvwTs9cCeEDQ7Etdi/hmr1NvzARMwARMoEBg6SJ+Sai7DBbxwhm2yQRMwAQWTmDqt5gXvt1Jy7OIT4rTyUzABEzABIYQmOPLXkPWX7uvRXztZ9D1m4AJmMDKCfhOfPwJtIiPZ+dIEzABE1gNAQvlak7VoEIt4oNw2dkETMAE1kfAb1mv75y1VmwRbyVlPxMwARNYMQHfia/45HWUbhHvgOMpEzABE9g6AYv7us+wRXzd58/Vm4AJmMBoAn6bfTS6xQRaxBdzKlyICZiACZyewJg78d/9xKdPX6hXLBKwiBex2GgCJmAC2yIwRqxLBCjgj3/x7dcs5CU6p7dZxE/P3CuagAmYwGwESmI99dvmrQJeqmW2je80sUV8pyfe2zYBE9gegS6xPrWgdtWyPfLn25FF/HzsvbIJmIAJTE7g1GIdN5DXzuPo6/40BCzi03B0FhMwARNYBYEsrBqrHbsJxj/rtndcOzbP2PX3GmcR3+uZ975NwAR2RyALLcc//Jq7rn9JbQoBtoCf/pKyiJ+euVc0ARMwgbMRiEJ7Q8TvvH73HO1nK84LDyZgER+MzAEmYAImsB0CFu91n0uL+LrPn6s3ARNYGIG1i+Jc9R+TtyW2xWdhl8ok5VjEJ8HoJCZgAiZw7frb0mM/W16CCLGGsfV3nf+heSOLllj+u/U56u7a01LmLOJLOROuwwRMYBMEogC1bqhFqFpzHePHOsbU37Jma94Si65Y+bf+AZqWWtfkYxFf09lyrSZgApsl0CVU2nSLzxhfxkgMh6yhtaZuh9Yw1H/qes+ZzyJ+Tvpe2wRMwAQSgZog0d76lvEQ37h8be3o4/6yCFjEl3U+XI0JmMCOCfSJ7xCRHeK7RuRb31/rObGIt5KynwmYgAmcgIDFqR8yGbW+K9Gfbd0eFvF1nz9XbwImsBECaxXvc9V9rnWXdrlZxJd2RlyPCZjA7gis9c6SdfPPto4R1DExu7swGjZsEW+AZBcTMAETmJvAUkRtSB30/eHX3PizrUP4MG7s2+FD6htS01DfpdRhER965uxvAiZgAgsmUBOXFjt9hoprLW8fojFxY+rrq2PM/FLqYO0W8TFn0DEmYAKbJzBGZI6F0rdmnI99rUtbSYSH2Et5mb9m19pTtC1rtPhMUUtfjqXUsXQRfyiA1wO4G8B/A/B4dBxXrlzp4+55EzABE+glwCfokhj2Bh7h0LdmnI/9vCTnSsdQe8zRtV70O6Z/ijWG1FfjNSTHKXyXLuKvAfC3Drp9fwAU9ephET/FJeM1TGAfBM7xJJ7X7BpzLs/PeWbiWrE/Zs1SPG0l+5j8x8awjlO/iBtb85JF/CEAfg/ALVXVThMW8bGXgeNMYL0E4hN/7J9zR1PU0SckffN5/6pJbZ6P4y6foevGvOyX4ks2xXXVIp852nOtO3QvSxbxvwTgTgCvBvAuAK8E8LlJt28aWsSHnn77m8C6CcQn/9g/566mrKNPSPrmxUE11X7tS3nYylc25Yht11z0q/VL8TXbWu6I415Le4nzU/aXLOKPBfBZAI87KPVPA3jBTap9Y3DrYRNXLy4upmTjXCZgAisgEJ8wY/9cpbOGqeuYIp9yqBUfjimUUeCzj3zP0S6plpb9i+ep6l6yiH8hgI8G0f6rAP5DGF/q+k685RKzjwmYwFACrU/IczyBz5Ez71/7U5vnNe6bl9+p2qXVo32fsq4lizhF+rcAfOVBrX8CwEsvKXcwWMR1Cbk1AROYigCfkIe8pTvHE/gcOUt8utYZyqGUf0rb0uqZcm9Dci1dxPm5+FUA7wXwqwAeFjT7UtciPuTU29cETKCVQJe4tebIfnPkzGsMGbOerj+hyvkl1jxkj1v0XbqIXxLqLoNFfIuXqPdkAuclwM+Kpz4ohl1392PEckhMyZe22p9Q5VxXvWP55DryeGzePcVZxPd0tr1XEzCBQQQo4I9/8e3Xv/Q1KLDBuSZYYwRzSEzNl3Y+akfXXC2my57ryOOuWM/dS8Aifi8L90zABM5MYGqhmGI7c9yJ99UlDkPWVoxya6xWdrbZxvEcd9pxzVK/VEfJz7Y6AYt4nY1nTMAETkjgXEJS22IWmJrfXPaudwH6ahNL5iiJc+nFQV/OufY5JO8aahyynyl8LeJTUHQOEzCBSQjM9SQ9NC/9S+I3ySZDEq7TVVtNbFtqU161Wrb04iD7yFdt37z8jm271uFcy76PrWFt8RbxtZ0x12sCKybQ9SQ917aGPvmrRrVz1sVvg9e+TNa17tja9KJALfPw0SWOffNddQ6Za1mHPj5uJmARv5mHRyZgAjMRaHmSnmnpzrvduObQGseISoxhP45jLbV+9m/Nke/AGSfxzjm5drTFfq2uKeynWmeKWpeSwyK+lDPhOkxgBwSW+CTNmmJdsZ9PSZxjP4tgnM+xHFNIFVOa77PleK7HO/muf98dc+oOnDbGxnrjmP1j6oxruj8vAYv4vHyd3QRMYMEEKFZRBKOo5bJv+N5VFD4KXhbYHK/5LKTy61qbPpzXOoqRnXMxvtZXnHIpjjVFDsorf7fLJWARX+65cWUmsCsCUXhOuXEJWRS20vqcr31+rdrVxnja+MgCHG3qs+06NK9WvjG+1pevWvrxoc/l7/rIp66PafOxHgIW8fWcK1dqApslEIXnlJvMgpXHuZa+efpHH/Yl/LKrpa/uzmmTXW1eW2POl97qjnHsa6xW8bnlvOpQ2xeTc3h8PgIW8fOx98omYAKBwLHCMTSe/iUxDCU1d7V2zslx/Lw6z3MBxaqfa4rz9KHQRlvsq2Dach7NaZ0cp7Ha6F/rD/Gt5bD9OAIW8eP4OdoETGABBCgmXaJVK3EKEcpr55xdY82pZZ25H/dFAY9/Bpa+cT7uM+fRHO16Cz36aL617Vq7NYf9jidgET+eoTOYgAksgMBYQWqJ6/OJ87HfhYV+FFN+Fl0SYuVRq1wU8nhoHP1yP+fnfPSJ+Yb0c448HpLLvuMIWMTHcXOUCZjABghQdChwEsK4JQmSfOI4+rEf57JgZl+NGfO0V9xx/TPzvH5eUzG5lR/jta5sbHXEvmxTt6V1p17D+S4TsIhfZmKLCZjAjghEAdS2JUgSV4lg6a5ZvvJRq1y5jTn5pTeNs19XnjinvlrmiX3lLdk0V2uHxgz1r61rezsBi3g7K3uagAmsmECXwJTmsrhzzM+jKeT5KMVnH45zjq642hztuusurVGynSqmtHa01fYUfdwfRsAiPoyXvU3ABFZIgOKhf+o1pPwoOuzX7pqH5Czdzed4rlV7m5++sa4cWxvPETMkp/Y0JKa2F9vvJWARv5eFeyZgAmckUHtyr9lZatdc3Ar94j/1inMtfca33P0Oqae0ruLZ5ncCor/8oo192dXm+SnHXKOFSVzzFHXF9fbQt4jv4Sx7jyawcAI1QajZuZ2uudJ2uwSka065sk9pLFHLc8rR1TJGd9+1PPSJfjFftCs+z3eNOcccrYdqafW33zwELOLzcHVWEzCBgQRqAhLtsc/0eVxbsuQnG9uS6HXlqsXQXpur5Yt2vV3PHDqUM+Yt3aVzPscrD9v4TkTMFddp5VCKVx63pyVgET8tb69mAiYwksBY4SjFZRvHfMQjjtWP4ilbjFFfc7nVPFvOaV7jLKKc52f5EuDsr3w3/G7+bfL42bvy1OKVRy8CNO5qY64uP8/NS8AiPi9fZzcBE5iIAEVjrHCU4mI+9qOAxrH6EnAJHe08cqvtxrj8pTrORXGOMeqrpa/WkI1ttkU/1pi/SZ/9Yy7liwzyvMfLJGARX+Z5cVUmYAKBAAVIAtMnRiHserfmH3PSkePoG/tRuOXHeqKwq764vnx1J53nlDfaW/rMm18Y5LiYO+4l+8Vxq1+Mcf+8BCzi5+Xv1U1gEwTGPPkrRm0fCPrxURLLWmyff1y75hvtuc91lUOtaonj2I/zfUIs39wyX+mFQfbjmL5DmOUcpdqzj8fnI2ARPx97r2wCmyDQKhJRDBTDu8VWMRKsmIe2OI79mr/salvuWGNe+sex8sSW833CSZ+he89rxHGtz3X66u2K7dtHLdb20xCwiJ+Gs1cxgU0T6BMJzmcxkLiMvRsl0Jg39lthU5Djr4L1xelFR65Ze2GrI744kC230T/PTTEewySvO3eNeT2PhxGwiA/jZW8TMIGBBCQCanN4l9jVYmKO6BP70Ud9zaulXetHm/xjy3neOdM/+t6w33n4MZO7rs/RJ79oiblO2Y+1nnJdr3UaAhbx03D2KiawegJjxIAxXWLWNa85iWwXQNWmtuQrYVUbfbWWbGpjHtryHbjmmTMKPPcc6y7lY2zNrryxHeIb42J/ihwxn/vnJ2ARP/85cAUmsHgCfPLvEuOuDfQJR56P45Lg5rXoT3GVkMZ4+dIWhbXmQ3/5dvkob2yjf+6X2OV1YkzM21dT9q2N83o1P9vXRWANIn4fAO8C8Cb0HFeuXFkXfVdrAisi0CUyLdtoiS8JTV8c53UXXLtTZn0xT+yXaue8fNSW/PpsilWb/WVnWxJ6+kefHD90rFxD4+R/bLzyuJ2OwBpE/LkAftEiPt1Jd6ZtE5j7iXZofvrzUROpfDZa8mcfjdXmnHFMn75a5BPfCYi5Yz/mVp/zytHnG2PUVzs0h+KGti01nqqWobXv3X/pIv7nAPxHAN9mEd/7per9txCY+4l2aP7ozz4PtS37KfnEnKX5LpvWzm0pJvqwr38Oxn7Xi4A4rxyl/CWb/NXSJ/ZLMUNtOR/H2ltfrhzb5+/5+QksXcRfD+AKgG+1iM9/MXiFbRCY+4l2aP7ozz4FkH/X+5gj5mzNo7UVm8fME+eUlzY+9Ll79JNPbpUn20tj+bIlm3j3X/I/xqY1tCZzsd/1McQx6zl2fgJLFvEnA3j54WPwLhG/9bCJqxcXF/MT8womMJBAfMIcGLpa9649U8CH/NvsPgh5rTxWPO15Lo7ZzyIqG9s5xDXmZ50c66G6ZY/jY/rMn4+SLft4vEwCSxbxnwTwBwA+CuATAP4EwC90fbfNX2xb5kW256r45Nj11usW2bTsmYLYd7QIS15L45w/22u5ZVfLGtnXWG1f7XG+Kybm1lr5rpg+2RbzKy7autaMfnP1z73+XPtaYt4li3jU66478Xv8LOJLvMRc06mf0E69XukMH1sD4+OLn1o+2vMc7/RLn/HqpzmH3lHnWrTfvG7JXoulb2mOtlx7yaa1SnlKeaP/3P1zrz/3/paW3yK+tDPiekzgCAJjn0AZN+TQnW4prmQbklu+ysM2Cnqcz3b6UgSf8ar/eo+403ZD2G/8W3LGK3fuK3dutV/5l2qirWZXPubpW1t5FKM14zj3Y84W/xw/9TjXM3V+57uXwFpE/J677a6O78TvPbHu7ZfA0CdQ+mcxFL1SLgqRfqs6x8VcMTb2lbvUlvxoG2tn3DNe9fZrj33BW67/WdSch+O4B82rZY3RJ/e1B9kl0jFeOfhC4hte8Jbr9ZTmc67so/nYtvhEf/e3R8Aivr1z6h2ZQC+B/OSfx0xAWxS4mFR3prU4xUrUanliTsXEnOznt5f7aos55cs6VHNpXn6sk365XtahunKrfIrT2/bRj59p88XE017xtkt10K+0nvLW2lJczdf27RKwiG/33HpnJnAPAQkKDfnJP87dE3DodM1l3zyWqDFHa57sxzEFsCTA2TevH8f0bRFK5VSrHHEvtJXy0S6/XC/99VDO2HbNRb/cZ5yPfROwiO/7/Hv3OyDAJ/qagJXmpkQyhchIGFtydfnEOfbFJNq192iTb0mY5R/bGBvtXX2tMSa2K6/ntk/AIr79c+wd7pBAFoM4jn2iyeNT49L6auP6srFVX/PZxjHfso5+sa84tRRlzkvMZa/ZNJ/brjXk2+qT/fJY+dyagAhYxEXCrQlshACf+LMwaWtdc/JpaacSF9VTutvWHNvYZ30c8212fV7OMXM87kVvveet9xwT9xXn8h228kd/9RkXj5gn2mO/xYf+2S+PY073TUAELOIi4dYENkSAAlA7uuZKMdl/anFRfrWqgeNoi336cJzvpjWOOdSPrXKzrb3gif7s01cvGuIc7X1Hi4/WUC7GtMYpxu3+CFjE93fOvWMTaCZAESmJ3NziktctrRd9NF+ycbOaVz/uKc4JTM3W95fTFH9sG/dxbC7Hb5uARXzb59e7M4HRBCRkakcnCoFDcult7ixoHCuP2rDE9TnaddfMPkVb+egb42JfcxL50lxcq9QfE9OVJ+cr+dq2XwJTiPiDAfx9AP/q8IdYvgIAf7zk5If/2Mt+L2Tv/HgCFAsJBtssfFxB82NWq+Us5ZKv1lNLIeZfY8tfYMs56B/vmhknYY6+eR3N0V6bk49a+unIMXksP7aKUxvn1O+Kl09uu/JlX4/XT2AKEf83AP4ugPcdVJui/u6TKzh/s/TKlfWfEe/ABM5AgE/8vHPtEr4xgsKtxDvgkphm0dFYrXDcEHD+wZQ7bvqzqpqPLWNzfB7Lv8tem4ux+cVOjsljxtLGuPyHYZQ3tqV4zec55c12+bvdHoEpRPzqQbDfFYT7PaF/sq5FfHsXqHd0OgJ84teTf25Vhewa97UU3m984b3fGKd/FHXmi3fIeaz8jOELDN6BU/i66qjlUC61OUcc13LQLj+1rC3uQfn7WsVFHn0xcb6rxujn/rYJTCHibwPwIADvPKj1lwG482TKHRayiG/7YvXuxhOQ4LRkkDgMFRetoZZrsR/f+lbu7BPrinO0sw6+S8CWjxbBjDliX+vQFvNwHD9DV+3y15gvJFRLjo++rf1Sba2xqmmIv323R2AKEX8CgP8M4JMAbjv8/jd/OvTkh0V8exeod3Q8gSxYLRlrYlkTHa2R42iPMXmca4m+nONYd+CaU9sVK58b8XfdVIPi5BPXUf1s4yFf2tVXG/1K/eyXx6UY20yglcAUIk6xfjiA7zx8oe0RJ1fvw4IW8dbTbr+tEegTBs2rbdl/9uWYd581gZN/bPPdao6XL+tRftliq36t7hib+/Fz/q48mpOQa6x82V6rJdoVm3NpHH3dN4ExBKYQ8W8BUHqcXMst4mMuAcecg8CUT+ISiiyueV/yO2ZtCZnWKuWM+WOf9Sie9tjnnGzZL+9DvtmumvK8amCrt8xzbC1GfsoR19BcX6tY+cVx7GverQkMITCFiL8RgB5vBfA/Afz6yRXc304fct7te0YCfOKOd6hTlJIFsZST604hGnmtmLNlb6oj3pUzJwWWd83Kz5YH29IamqdPad0YI5/aXXkp/vri4T8tPsG9tzt1vt4F7bBJAlOIeNbrRwP4lWw8xdh34pu8Rje5qSgwsa/Nlmyaq7U5Jo7Zzy8cNK82563Z6Veak01tzEeb7LFlX6Idv3Uuf87x76HHL8cxr2KUK9dEuwS75BPnVWfJT3Nqo49sbGv26FPqM25sbCmfbfsjMIeI3wLgA6cQ7byGRXx/F/Dad8wn8JK4ZlvLPqMY1PIqj+ZLYkifOB9j4hqyR//SPG35Lps2PijOFNv876U5JwZR3POacRz73Bf/PXltf7TX3lqPayun6tU4tiX/ON/VPya2K6/n9kNgChH/5wD+2eHxMgD/BcAvZIE9xdgivp8Ld0s75RN5PrItj0v+Ej3NtcTQt+YXBZA+EuKaf82uNTQfW719Lh/VrjF9876ij/xyyxcHj33BW256Kz6uy5zcX+2Qr/Ies/faGsod1+ry9ZwJlAhMIeLPAKDH3wDwV04h2KU1LOKlU2zbUgiMfbJmXJ+QcY9j8pdioi334zhz7Zqr+fbFcL7Lh3MS5MiI9ijS8lOuOBdr03y0sU97bS77to6ZL9bcGmc/E4gEphDxkp6exWYRj6fW/SUR4BO2PqMdU9eUAqJc+S1s1lUTFsXE2qNNcTVxVBz96BNZ0BZzRV+JXGk++tVyyIetfNgqb56Pdq2pNvq29vti++Zb17HffgkcI+K/DeC9hYfsJxdyi/h+L+Sl7lxP0mxrn8FOXbvWLOXlHIWKAv74F99+7fb3/+EltxyvGNnZZhuTUJxLIqgFGMO3ufVQHgp6jY18Yl7lU0ufUjzt8eBYefKc/GSXb96T/Fpa5VDOlhj7mMBQAseI+J8H0PWwiA89G/bfFIH8JD70ybzvrrYEK69Z86GdAi5Ri36lOmnTQzEal2I5Jz/N06bPwNnXUcsT7dFfcWo5F+/saactry+74nKb19CYrfo5pjSOvrFf8rXNBI4lcIyIn1yk+xb0nfixl4PjxxKoPVnX7H3rUMB5p5yFvCWffNSW1uIcRa6UvyZ+siuvcmic16Fdc7kt+crGmnhnzZ8c1R22cimPfNlqrs8W53OfOWo8NBfXjv2Yq+Qb5903gakJTCHi3wTgLgCfAfC/AfxfAJ/uE9w55i3iU18eztdCYK4n7laBLdXYUlNNiPK6yl+y13IwRjUwTi8AlItzio3zMYZ2+d0Q9Rv/HE1xcY0+m9btanMdqkU1KDbaZYttrCXa3TeBOQhMIeL8KdIvB8CfIr0PgB8C8JNziHRfTov4HJfIenOe8sn0VGsNWUe+alvOJH2z4DKuZu/LqbXZxr7usvXluvjZvHxjHbIpR1y31RZjtKeSjfm0dil3LTbn8tgETkFgKhGnvvJLbjrib4vLNntrET/FJbOONeIT8Toqnq5KCY/uZCVIcQX5RJv6jCsdislt9tV8tNOmOtjnnTUFnC0FvPTRQa2OmHdsXzWUamXOmn3sejFuztxxHff3QWAKEf9NAPcH8PMA/hGAHwHwntkVu7CARXwfF23rLrf+ZFnaH20USwrkN77wrdc/885iKJ8Yr35pLvLWvO6gFScfzWe7XlBEP/roC2ktNSp2ijauPUW+lhxckw+9mGmJsY8J9BGYQsT5DfUHAvgCAP8QwD85vL1ekNlBJv4N9t84/AnX9wN4Tl+0RbzvdHt+SgJ8Qu47so/Gavvia/OMr4kB5/jgP+WiOGY/zSs3xxJT2jjuOpQzC69icjz9SnfafWvlPMo/Rcvcc+bPNXItnYdTrpvr8Hh7BKYQ8e8F8IA+gR0x/ygAX3+I+3wAHwTwmK48FvHtXaBL3VF8Uq7VmH00rt3F1vKU7MzFRz6iTX219GVfYqJY2vT2tmx9bcwZfWkviTttMSb2Yzz7XXPRt9Uvxih/ZpB9NB67huJjO2WumNf9fROYQsR/DsDvA3gtgCcDuG+X0B4x92sAntAVbxHf98V86t23PClnH4oZBYRCPvRQLrYlEcp2+ed1SnbWU7tbzvG1MfPGv1ke/bRv+vBRqp/+tbn8wqDmF9fs6jO+76it0RLbl1vzU+ZSztb2nGu31mi/fgJTiDh19X4AvhvAbQdBf2WX2I6Y+2IAHzu8ZV8Nt4j3n3B73EzgHE9kErQsTDdXdu8dKWtUjOpVW4rhHB81oWRMKb6vHq1VitUcXwxQyKOPaon547xi1eY5xpVeYGQ/xU/Z5jU47uI6ZO0pcw1Zl77nXHtorfbvJjCViEvIvwvAvwPwqarSDp/4PADvAMC37UvHrYdNXL24uOjerWdNIBA45xNZFuVQ1vUua9Nn2vy8mm93RxHM/hwzRnuiL/vx0Fg+GkefWl++XbGaK9Wp+Fr+LjvzlXJ2xcw5d8xecl1T5sq5+8bnXLuvNs+3E5hCxP8agFcD+OihfdKEb/Xq80YAABlNSURBVKnzDv/NAJ5bUu9s8514+4m35w0CtSeymn1Kbl1rULQe96Ib3y6nX5cva+K87hAZq77qjfPy15za2hp9sTGO/ThW7rEt91K6C4/5utarzdXsMa/7JrAGAlOI+OsA/PUZvtx2y+Gfrf1UFuva2CK+hktu+TXyCT6L4BxV14RE9pa7T/myvlpftcd52dRyrmvPnI/x6itOtWqseeU/plXuUo7Selq7NMccNXspf4tN67X42scEpiYwhYjXNFX2O9QZ2H4zgGuHPyLzbgB88C6/eljEp7489ptvridm5aUwUTSzQMkuv9oZ4DwfXcJbi63Ztaba6Ke1WJ/68qOt9E/UNK88eSx7S8vYWny0sx+ZxDmuo7HalrW7fPJ6Xb6eM4E5CJxCxE/219ss4nNcIs459RO+hDr/UzMJAue7jhuiedd1QWqprcVH66k2xuhRm5OdfvzMPvqzLzGVXWPFtbbKH18odMXSv3TEmkrz0VbLEX3UH+KrGLcmMBWBU4j4O6u3zhNPWMSnuiycRwRqT/xjn7gZpwfXyHnyWHWo5TwFk397vM9X+SmeFOc+f87Ll/78Yl1ep5ZD+aNQ05cPiS99xh7KVYuv1ZX9W/zoE/eRc3DckqcUZ5sJTE3AIj41UefbHIH8hN3yJF+DcEwsczJegpnXyHVqnnf8pW+40z/GaMyWLxSe9oq3XfrnYsoZW/pL9GI++uifnLFm+dCe/WK+of24/tDYmn9XfXOsV6vDdhPoIzCFiD8bwMM6bqr9dnrfWfD86gh0Pcn3bWbsHSnjKK66s43r1IRFdsZGIaU95pIfWx5s9Yjr1PqKi/Ncj3+//fv/5R035aIvBZ3z8SjliPNd/Vpszd6Vq2+OOXPtfTGeN4G5CEwh4i8E8CEAvwzgiQD4rfJ4fE0czNn32+lzXSbOOxWBKKRDclI4JHzsl8SpZOMa0R5jYz/7tYxVf8wvm1ruN6/DucyBPvFOXfHHtHPkZN3xxc8x9TnWBKYgMIWIU5cp3N8B4JcOgv5iAF82p2CXclvEp7gk9pGjS3jmIiBR4VvMPFpqiD7qK4/GqpfjbNOc2lpsnFceipXy1eJqduVjKx8KYDyUW7Y8lj23Q/xaffMapTFzxRdSJR/bTODUBKYScWrq1wHgv+m+G8DPAODb6Pxp0pMdFvFTXz7rXE9PxlM+wddI5DV0B6pW87llPtpqd6fy17oc6w4xi6V81OZ55co58tv28lMetdmex/TL+1Xs0Ja5I5PSWsyZ/YauU/OvrVfzt90E5iYwhYjzJ0L5Z1H5l9Weevg76hTuzwHw4ZMpOACL+NyXyzLyT/FEOkWOLhrMz0cWQsZo7djqDi8KVPTtWktzzCexzEIdfeIajMnjWJfiWlutrxwxrmSL86195WEba8/x8st2j01gSwSmEPHnA+BvipeOryoZ57JZxLd0aZb30vfEXY46rVU1UtDiW9JdVUhw1Hb5luZiXJeQMla+uS3lrdkUG+dpo6jWXkDIV7FqZa+1XX5dc7V8tpvAlghMIeJzafLgvBbxLV2a9b3Unrhr9nqm+WZUi9r5Viq/dRzXjX3VQVvpLrbkqxi1tVjO98Vznu9O9L3QaFlLPm5NYM8ELOJ7Pvsb2nuXsGxom9Wt6MtycpCYikvp7lg+MYbvHJR85aM2x7bEMJZxendiSIzWrbW5npqf7SawNQIW8a2d0R3v5xxP5GPWHBuT4zSmGMZf+qI93mVzPo5rlwjj+FfaSp/jM0br5fi8fp7PY+bJNWafIeMpcw1Z174msAQCFvElnAXXsDoCJSGire8YIjjKR5HUN89lUx7Osc82HvKTLc/LnlvG5Vj60FYTd8635o/rldaJ80P6U+Yasq59TeDcBCzi5z4DXn82Aq1P7K1+KpT+urOVeEVbXz7N5zbmVz7m51p8u1z+8uNcFnfNRV/2uwRYMbHN8Tdy3Pvvxmu+0a5+zCXb2HbKXGNrcJwJLImARXxJZ8O1TEaAT/YS2q6krX45B+NybMmW4zRWrESaYx5sJbiyZR/lkL/8ZFcOxslHn0PLp6uN68V+Xke5uzgzpmtedcTcsa/5lrWir/q1XJp3awJrJ2ARX/sZdP1VAn1P4JrPbTVhYUKxcapki/Pqy08t7eyXBDf6yE95NJYP2/zZtuZiTKkv0WbLGAow+11HX+6+ea1JPz70Iqa0pnKpLfnIRp+WFxDyd2sCayRgEV/jWXPNRxPIT/B5fMwCUWBinznzOK/D+RafKE70z2+rt+QprZ1Fu6+WnGPomPnjmtpL17qK6fJRHS0+8nVrAmskYBFf41lzzYMI1J7Isz2PWxbJMRxLYHM/jku5++ZjDH3jwXG2xXn2++bp03fXnXNOMc515XFpjRafUpxtJrA1AhbxrZ1R7+cmAnyyl6jeNNEw6BOKWu4Yx370i3OlEkrzJVsptssWa6j5tfjUYm03ARM4DwGL+Hm4e9UTEhgjglnQajlK9lYbEfTd+eY6jsFWqkv5NMdWfc3FVnNq49zU/VOsMXXNzmcCpyZgET81ca+3GgISEbatd/NDfCng+iMtWotw1M/tXOBizbGf19Nc/iKa/FSvxse0WmvKnMfU41gTWCoBi/hSz4zrGkVgrif9nDePY7Fdc9GPfQoi/fUiQX3aS99Sz/FTjWPNsZ/za44tH7luzSsuj2VvaY+JbclvHxPYAgGL+BbOovdwnUAUlS4kx4rDDYG985475tpaQ9aJvuzzkf+pVfSprVmzHxNby0l7zBv7mpPId+XwnAmYwHgCFvHx7By5QAJZSGKJnONjqLDEnOzzDpn/Djva4zrsax0KvsbZp28c8ytftPXFa/6YWOUY246pd+xajjOBPRKwiO/xrO9gz1k8opDluS4cMU5+tPXl4DwFnC8Y1PbFML981Laumf0Vp7ZvXn4t7ZS5WtazjwmYQJ2ARbzOxjMLJRBFJPZVLm26247zsS/flnZonNaneCs2t6V1Y5zqp5/sypFj83zNT3Gl+SG2WJtyujUBEzgPAYv4ebh71ZEEomDFfk7Hua757K8xY2qHctbmo710991Sj9ZXq5x5LLtazbPtEtk43xUT/bSGWsVp7NYETOB8BCzi52PvlUcSiCIS+6V0ffMxhr76MlmOuzF31z3zMa7Up3/OQb+SrRTfYqvlkl1tzkU7H1HsS74lW87lsQmYwHkJWMTPy9+rL4gARYtfWivdRbNMznOu76BfFMjoP4UwMkfXGqq1VoPqmaIW5XJrAiZwHgIW8fNw96onJDBErOSrNpZJW58wyv/YeOXJbayB/dI6iumao0/fvPK4NQETWC6BpYv4EwH8DoAPAfgx9BxXrlxZLmlXdhYCFKpW4WWBfcLWN9+3yVp8zV7KJ1+2Q/YWcx0TG/O4bwImcF4CSxbx+wD4MIAvBXB/AO8B8JguHbeIn/diWurqEr2++qYUNuZqXbf09v2Q2L591eZb16jF224CJnB+AksW8ccDeHMQ7R8HwEf1sIif/4JaewVjhU1xbPnIv+9d40Jf3k3Hz9plY9t1tPrlHH15s7/HJmACyyWwZBH/PgCvDIr9AwBeFsaXuhbx5V5oS6xsiJhFkc17YR5+qz3eUdPWmr/kV7LldTmWn9qST7TRb+xb8DGP+yZgAssgsAURv/WwiasXFxfLoOoqigRahaYYnIwtubp8hogZxVm/NpbKuD5kLv1YSdeapdgpbEP2wvXOUeMU+3QOEzCBywSWLOJ+O/3y+VqtZajQdG20JVerT2mdksh13YkzB2NKcaX8c9jOufYc+3FOEzCBNgJLFvH7AvgIgC8JX2z76kvvoQeD305vO+mtXlMLQ1e+rrlSvdE/9qNvzR59cp8xY95ujm+l55xxPKamGO++CZiACUQCSxZxyvOTAHzw8C315wW9LnYt4vHUHtcfK2ZjVj1mrWNia7UOFVrV0HK3PuYFQq1O203ABExg6SJeFOua0SI+7oKuiVbNPm6V7qjWtbIfx9nWvdI8s601tPrNU6WzmoAJbI2ARXxrZ3Tgfigqa7k7zLXmcdy6xFJtnJui35K3xWeKWpaUY497XhJ/17I/Ahbx/Z3zSzte0xNvrjWPuTna+MKk9XPqS0AKhriO8kdbDmnxyTFrH+9xz2s/Z65//QQs4us/h95BgYAEVm3BpdlUEqeWvCWfkq25kBU4bn1/KzgFLnFnBCziOzvh3u44Aq3iRL+aL+3xo4ua37gKHWUCJrBHAhbxPZ71CfdcE6KafcKlj07VV2PffC6A/vnPreYcGrONgp5zeWwCJmACLQQs4i2U7FMkUBOimr2Y5EzGvhr75mtlM44PHn055FfLZbsJmIAJ9BGwiPcR8nwngZoQ1eydyU482Vdj33xLuVPkaFnHPiZgAvskYBHf53lf3a4thss6ZT4fyzofrma/BCzi+z33q9k5BWPuz48tSu2XwynOR3s19jSBfROwiO/7/J99963i2erHDQ3xlf/cLxLODnriAoYynnh5pzMBEzgQsIj7UhhN4NgncsZPLZ5jcx67l9EQHWgCJmACRxCwiB8Bb8+hY8UyM5tDPOfIqbrnzK013JqACZhAKwGLeCsp+10isHVBy/vjeOp3Di5BtcEETMAEBhCwiA+AZdf9EKgJdhb2/RDxTk3ABJZIwCK+xLOyk5pqgliznxrLUuo49b69ngmYwHoIWMTXc65WVWmfAHK+9NZ0zX7uzfft59z1eX0TMIF9ErCI7/O8z7rrViGuCWPNPmvRHclb99ORwlMmYAImMAsBi/gsWJ30FEJ8ijV0JoesNcRX+d2agAmYwBgCFvEx1M4QY2G4GTp5lN6Ov9nr9KOl1nV6El7RBEzgFAQs4qegfOQaFoYywKW+sFlqXWWKtpqACayZgEV8JWfPwrDME+Xzsszz4qpMYC8ELOJ7OdMd+7QQdcDpmCK3Jb6l31Gyp0zABDZGwCK+sRM6dDsWoqHEbvb3C6CbeXhkAiZwWgIW8dPyXuRqQ4RoiO8iN+uiTMAETGBDBCziGzqZQ7YiMVbbEktfv33cQso+JmACJnAaAhbx03Be1CoS49/9xKd7RTmLfB4vamMuxgRMwAR2RsAivrMTru1KjNXKHlvOnfrOu6ueWJv7JmACJmAC165ZxH0VdBI4paie40VD5+Y9aQImYAILJ7BUEX8pgLsBvBfAGwA8FA3HlStXFo7b5fUROOWLhr5aPG8CJmACSyewVBH/dgD3Pej2SwDw0XtYxJd+ubk+v0jxNWACJjAlgaWKeBTs7wFwWzTU+hbxKS8N55qagD8umJqo85mACaxBxN8I4Ok14Y52i/j2Luit3blubT/bu+K8IxNYF4FzivjtAN5XeDwlCPPzDp+J3xJsuXvrYRNXLy4u1kXf1XYS8J1rJx5PmoAJmMCiv53+TAB3AHhwVu3a2Hfi27uifee6vXPqHZmACUxH4Jx34jUtpv2JAD4A4JFdTnnOIj7dheFMJmACJmACyyewVBH/EICPA3j34fGzWbBLY4v48i84V2gCJmACJjAdgaWKeEmje20W8ekuDGcyARMwARNYPgGL+PLPkSs0ARMwARMwgSIBi3gRi40mYAImYAImsHwCFvHlnyNXaAImYAImYAJFAhbxIhYbTcAETMAETGD5BCziyz9HrtAETMAETMAEigQs4kUsNpqACZiACZjA8glYxJd/jlyhCZiACZiACRQJWMSLWGw0ARMwARMwgeUTsIgv/xy5QhMwARMwARMoErCIF7HYaAImYAImYALLJ2ARX/45coUmYAImYAImUCRgES9isdEETMAETMAElk/AIr78c+QKTcAETMAETKBIwCJexGKjCZiACZiACSyfgEV8+efIFZqACZiACZhAkYBFvIjFRhMwARMwARNYPgGL+PLPkSs0ARMwARMwgSIBi3gRi40mYAImYAImsHwCFvHlnyNXaAImYAImYAJFAhbxIhYbTcAETMAETGD5BCziyz9HrtAETMAETMAEigQs4kUsNs5F4FN//KdzpXZeEzABE9gdAYv47k75+TZMAX/Wbe+4ZiE/3znwyiZgAtsiYBHf1vlc/G4s4Is/RS7QBExgRQQs4is6WS7VBEzABEzABCIBi3ik4b4JmIAJmIAJrIiARXxFJ8ulmoAJmIAJmEAkYBGPNNw3ARMwARMwgRURsIiv6GS5VBMwARMwAROIBJYu4j8K4BqAR6DhuHLlStyb+yZgAiZgAiawaQJLFvFHA3gzgN+3iG/6GvTmTMAETMAERhJYsoi/HsDXAfioRXzk2XWYCZiACZjApgksVcSfAuCnD++gW8Q3fQl6cyZgAiZgAmMJnFPEbwfwvsKDAv52AA9pFPFbD5u4enFxMZaD40zABEzABExgdQTOKeK1r6p9LYA/OryNzrvwzwL4GIAvrAXI7i+2re76c8EmYAImYAJHEFiiiEuT1frt9CNOsENNwARMwAS2S8Ai3nFu/WMdHXA8ZQImYAImcHYCaxBx3ZH3tlO+ne6fzTz7tekCTMAETMAEeghYxDsA+U68A46nTMAETMAEzk7AIn72U+ACTMAETMAETGAcAYv4OG6OMgETMAETMIGzE7CIn/0UuAATMAETMAETGEfAIj6Om6NMwARMwARM4OwELOJnPwUuwARMwARMwATGEbCIj+PmKBMwARMwARM4OwGL+NlPgQswARMwARMwgXEELOLjuDnKBEzABEzABM5OwCJ+9lPgAkzABEzABExgHAGL+DhujjIBEzABEzCBsxPYlIgD+ORhQ1c30vIX3LaylzH78P59/sdcN1uJ2fv1z/O4dwYt+6fu+VgoAV7Eez68/z2f/RsvYPZMYO/XP8/93hnsff+r//9/7yfQ+1/9JXzUBnz+j8K3iWBfA5s4jfvdhC/g/Z577tzn3+d/3wT8/8DenwNWf/3fuvodHLcB7/84fmuP9vlf+xk8vn5fA8czdAYTMAETMAETMAETMAETMAETMAETMAET2AmBFwB4L4B3A3gLgD+7k33Hbb4UwN0HDm8A8NA4uYP+UwG8H8D/A/DYHexXW3wigN8B8CEAPybjTtp/DeCPALxvJ/vN23w0gN8A8IHDtf+c7LDx8QMB3AngPYf9P3/j+9309r4g7O5vA/jZMN5L99sB3Pew2ZcA4GNPx1cB+EoA/2lHIn4fAB8G8KUA7n94MnvMjk76twD4+h2L+KMO++cp/3wAHwSwp/N/C4DPO1zv9wPwdgDftKPrf7Nb/XEAP7PZ3bVt7HsA3NbmujmvPYn44wG8OZxBXvt87On44h2LeD7PvwbgCdm4k/GDAbwTwON2st9NbvNFAD5++B/6kZvcYfum3gjg6e3um/Lck4h/H4BXhrP3AwBeFsZ76FrEb5xlcvgYgPiu5B7OP9+N4seon9nhu4+rO7+3HwSan3/Fx1PSTngnstXPRloYPA8APxPnW01bO1r2bxHf2lnv3o9F/MZbyu8A8L3dqDY9y+8A8fsBX7PpXe5kcxc7fnvtmQDuAMC3lvZ67EnE/XY6sHcR52fB/EjluXv9Hz7s+x8A+Dth7O6KCHxFqPXZAF4fxnvp8lvK/Jbq3j9K2JOI84uMHwHwJeGLbV+9lwv+sM89izjfbft5AD+1s3Ou7fK5Tv8K50EAfgvAkzXpdl0EfuVw981/ZsbPg79oXeVPUi3/iRG/E8DPh/jY2zf0+WW+PwDwvwD89/SFr0kALzTJkw7fSua31PlRyp6O1wH4QwD/53Du/+aeNg/gmwFcC/+8lv/f83rYy/EXAbzrsH9+xMo7cR8mYAImYAImYAImYAImYAImYAImYAImYAImYAImYAImYAImYAImYAImYAImYAImYAImYAImYAImYAImYAImYAImYAImYAImYAImYAImYAImYAImYAImMDeBPf+hkrnZOr8JmIAJmIAJzErAIj4rXic3ARMwARMwAeAbDn8V6oEAPhfA+ys/tPBLAL4zAHs1AP7SGMWafxKSP5XIx18++EQR59+9j79A9iYA33rw42/F82/iM/bfht9QDku5awImYAImYAImUCPwQgD/GMC/6PjNbv7p19ccEtz/8Gdw+Ted+YM0fAHAg3/n/+qh3yLijwDwm4cXDwz7e/7zkgd6bkzABEzABEygkQBF+T0A3g6Av2FcOijU/E3nBwDgT+TednB6CIDXAvjtw9+1/5ODvUXE+YMOnwp/E58/cvOq0uK2mYAJmIAJmIAJlAk8CgB/ZIQiyrfUawd/Veq7AfzioaXfTxzu4j8HAH957LOH4CjiTwfw8pCUv53Ot9O/CwB/6MOHCZiACZiACZjASAL/HsD3H34pLH52ndPxM/E3HN5K5907j38K4EcP/R86/PIUh1HE+YtUbwNAoX80gE8fRJw/t8i7+y8/xPMFxF849N2YgAmYgAmYgAn0EPhBAPy5Wx58K51vqX/bYZyb+wH4HwB+Lkzwc3D+TC7fjn8JgM8c5qKI87eh+fb73YcXAfxddH2xjWvddcjBPLzT92ECJmACJmACJmACJmACJmACJmACJmACJmACJmACJmACCyfwteHb4u8+9PkWuw8TMAETMAETMAETMAETMAETMAETMAETMAETMAETMAETMAETMAETMAETMAETMAETMAETMAETMAETMAETMAETMAETMAETMAETMIFdEvj/Wao8WTAEGFUAAAAASUVORK5CYII=)"
      ]
    },
    {
      "cell_type": "markdown",
      "metadata": {
        "id": "hELrKiakaGW1",
        "colab_type": "text"
      },
      "source": [
        "Our fitting function:\n",
        "\n",
        "$f(x)=w_{0}+w_{1}x$"
      ]
    },
    {
      "cell_type": "markdown",
      "metadata": {
        "colab_type": "text",
        "id": "OaVS_Bg5kUcU"
      },
      "source": [
        "Our task is to find out $w_{0}$ and $w_{1}$ that can best fit the data.\n",
        "\n",
        "We can write down each point $i$ of the data in a vector: \n",
        "\n",
        "$p_{i}=\\begin{bmatrix}\n",
        "1\\\\x_{i}\n",
        "\\end{bmatrix}$"
      ]
    },
    {
      "cell_type": "markdown",
      "metadata": {
        "colab_type": "text",
        "id": "6QzD1-PLkUcT"
      },
      "source": [
        "Now, write them down in a matrix and then transpose it:\n",
        "\n",
        "$P=\n",
        "\\begin{bmatrix}\n",
        "1 & 1 & \\dots & 1\\\\\n",
        "x_{0} & x_{1} & \\dots & x_{n}\\\\\n",
        "\\end{bmatrix}^T\n",
        "=\\begin{bmatrix}\n",
        "1 & x_{0}\\\\\n",
        "1 & x_{1}\\\\\n",
        "\\vdots & \\vdots \\\\\n",
        "1 & x_{n}\n",
        "\\end{bmatrix}$"
      ]
    },
    {
      "cell_type": "markdown",
      "metadata": {
        "colab_type": "text",
        "id": "FyRKCF2RkUcP"
      },
      "source": [
        "To get $y$ of all the points, multiply with a vector:\n",
        "\n",
        "$W=\\begin{bmatrix}\n",
        "w_{0}\\\\\n",
        "w_{1}\n",
        "\\end{bmatrix}$"
      ]
    },
    {
      "cell_type": "markdown",
      "metadata": {
        "id": "p31Xm97Oe97j",
        "colab_type": "text"
      },
      "source": [
        "We can write down this equation to describe all the points:\n",
        "\n",
        "$\\begin{bmatrix}\n",
        "1 & x_{0}\\\\\n",
        "1 & x_{1}\\\\\n",
        "\\vdots & \\vdots \\\\\n",
        "1 & x_{n}\n",
        "\\end{bmatrix}\n",
        "\\begin{bmatrix}\n",
        "w_{0}\\\\\n",
        "w_{1}\n",
        "\\end{bmatrix}=\n",
        "\\begin{bmatrix}\n",
        "w_{0}+w_{1}x_{0}\\\\ \n",
        "w_{0}+w_{1}x_{1}\\\\\n",
        "\\vdots\\\\\n",
        "w_{0}+w_{1}x_{n}\n",
        "\\end{bmatrix}=\n",
        "\\begin{bmatrix}\n",
        "\\hat{y_{0}}\\\\\n",
        "\\hat{y_{1}}\\\\\n",
        "\\vdots\\\\\n",
        "\\hat{y_{n}}\n",
        "\\end{bmatrix}$"
      ]
    },
    {
      "cell_type": "markdown",
      "metadata": {
        "id": "zgk2FxBokgZw",
        "colab_type": "text"
      },
      "source": [
        "To find out the best $W$, we will use **gradient decent**.\n",
        "\n",
        "First, define the **loss function**:\n",
        "\n",
        "$loss=\\sum_{i=0}^{N} \\frac{(\\hat{y_{i}}-y_{i})^2}{2N}=\n",
        "sum(\n",
        "\\begin{bmatrix}\n",
        "(\\hat{y_{0}}-y_{0})^2\\\\\n",
        "(\\hat{y_{1}}-y_{1})^2\\\\\n",
        "\\vdots\\\\\n",
        "(\\hat{y_{n}}-y_{n})^2\n",
        "\\end{bmatrix}\n",
        ")$"
      ]
    },
    {
      "cell_type": "markdown",
      "metadata": {
        "id": "7MMedwDAoB9m",
        "colab_type": "text"
      },
      "source": [
        "If we define\n",
        "\n",
        "$Y=\n",
        "\\begin{bmatrix}\n",
        "y_{0}\\\\\n",
        "y_{1}\\\\\n",
        "\\vdots\\\\\n",
        "y_{n}\n",
        "\\end{bmatrix}$\n",
        "\n",
        "then the loss function will become\n",
        "\n",
        "$loss(W)=\n",
        "sum(\n",
        "(PW-Y)^2\n",
        ")$"
      ]
    },
    {
      "cell_type": "markdown",
      "metadata": {
        "id": "oxZH8qdRoeZ0",
        "colab_type": "text"
      },
      "source": [
        "### **Implement with Tensorflow**"
      ]
    },
    {
      "cell_type": "code",
      "metadata": {
        "id": "8vqGFRY8JK0O",
        "colab_type": "code",
        "outputId": "12d2711d-18c2-4351-9d77-06ea8dc469bc",
        "colab": {
          "base_uri": "https://localhost:8080/",
          "height": 829
        }
      },
      "source": [
        "!pip install tensorflow==2.0.0b1\n",
        "import tensorflow as tf\n",
        "import numpy as np\n",
        "import matplotlib.pyplot as plt"
      ],
      "execution_count": 1,
      "outputs": [
        {
          "output_type": "stream",
          "text": [
            "Requirement already satisfied: tensorflow==2.0.0b1 in /usr/local/lib/python3.6/dist-packages (2.0.0b1)\n",
            "Requirement already satisfied: protobuf>=3.6.1 in /usr/local/lib/python3.6/dist-packages (from tensorflow==2.0.0b1) (3.10.0)\n",
            "Requirement already satisfied: wheel>=0.26 in /usr/local/lib/python3.6/dist-packages (from tensorflow==2.0.0b1) (0.33.6)\n",
            "Requirement already satisfied: wrapt>=1.11.1 in /usr/local/lib/python3.6/dist-packages (from tensorflow==2.0.0b1) (1.11.2)\n",
            "Requirement already satisfied: six>=1.10.0 in /usr/local/lib/python3.6/dist-packages (from tensorflow==2.0.0b1) (1.12.0)\n",
            "Requirement already satisfied: gast>=0.2.0 in /usr/local/lib/python3.6/dist-packages (from tensorflow==2.0.0b1) (0.2.2)\n",
            "Requirement already satisfied: absl-py>=0.7.0 in /usr/local/lib/python3.6/dist-packages (from tensorflow==2.0.0b1) (0.8.1)\n",
            "Requirement already satisfied: tb-nightly<1.14.0a20190604,>=1.14.0a20190603 in /usr/local/lib/python3.6/dist-packages (from tensorflow==2.0.0b1) (1.14.0a20190603)\n",
            "Requirement already satisfied: termcolor>=1.1.0 in /usr/local/lib/python3.6/dist-packages (from tensorflow==2.0.0b1) (1.1.0)\n",
            "Requirement already satisfied: tf-estimator-nightly<1.14.0.dev2019060502,>=1.14.0.dev2019060501 in /usr/local/lib/python3.6/dist-packages (from tensorflow==2.0.0b1) (1.14.0.dev2019060501)\n",
            "Requirement already satisfied: keras-applications>=1.0.6 in /usr/local/lib/python3.6/dist-packages (from tensorflow==2.0.0b1) (1.0.8)\n",
            "Requirement already satisfied: grpcio>=1.8.6 in /usr/local/lib/python3.6/dist-packages (from tensorflow==2.0.0b1) (1.15.0)\n",
            "Requirement already satisfied: astor>=0.6.0 in /usr/local/lib/python3.6/dist-packages (from tensorflow==2.0.0b1) (0.8.1)\n",
            "Requirement already satisfied: keras-preprocessing>=1.0.5 in /usr/local/lib/python3.6/dist-packages (from tensorflow==2.0.0b1) (1.1.0)\n",
            "Requirement already satisfied: google-pasta>=0.1.6 in /usr/local/lib/python3.6/dist-packages (from tensorflow==2.0.0b1) (0.1.8)\n",
            "Requirement already satisfied: numpy<2.0,>=1.14.5 in /usr/local/lib/python3.6/dist-packages (from tensorflow==2.0.0b1) (1.17.4)\n",
            "Requirement already satisfied: setuptools in /usr/local/lib/python3.6/dist-packages (from protobuf>=3.6.1->tensorflow==2.0.0b1) (42.0.2)\n",
            "Requirement already satisfied: markdown>=2.6.8 in /usr/local/lib/python3.6/dist-packages (from tb-nightly<1.14.0a20190604,>=1.14.0a20190603->tensorflow==2.0.0b1) (3.1.1)\n",
            "Requirement already satisfied: werkzeug>=0.11.15 in /usr/local/lib/python3.6/dist-packages (from tb-nightly<1.14.0a20190604,>=1.14.0a20190603->tensorflow==2.0.0b1) (0.16.0)\n",
            "Requirement already satisfied: h5py in /usr/local/lib/python3.6/dist-packages (from keras-applications>=1.0.6->tensorflow==2.0.0b1) (2.8.0)\n"
          ],
          "name": "stdout"
        },
        {
          "output_type": "stream",
          "text": [
            "/usr/local/lib/python3.6/dist-packages/tensorflow/python/framework/dtypes.py:516: FutureWarning: Passing (type, 1) or '1type' as a synonym of type is deprecated; in a future version of numpy, it will be understood as (type, (1,)) / '(1,)type'.\n",
            "  _np_qint8 = np.dtype([(\"qint8\", np.int8, 1)])\n",
            "/usr/local/lib/python3.6/dist-packages/tensorflow/python/framework/dtypes.py:517: FutureWarning: Passing (type, 1) or '1type' as a synonym of type is deprecated; in a future version of numpy, it will be understood as (type, (1,)) / '(1,)type'.\n",
            "  _np_quint8 = np.dtype([(\"quint8\", np.uint8, 1)])\n",
            "/usr/local/lib/python3.6/dist-packages/tensorflow/python/framework/dtypes.py:518: FutureWarning: Passing (type, 1) or '1type' as a synonym of type is deprecated; in a future version of numpy, it will be understood as (type, (1,)) / '(1,)type'.\n",
            "  _np_qint16 = np.dtype([(\"qint16\", np.int16, 1)])\n",
            "/usr/local/lib/python3.6/dist-packages/tensorflow/python/framework/dtypes.py:519: FutureWarning: Passing (type, 1) or '1type' as a synonym of type is deprecated; in a future version of numpy, it will be understood as (type, (1,)) / '(1,)type'.\n",
            "  _np_quint16 = np.dtype([(\"quint16\", np.uint16, 1)])\n",
            "/usr/local/lib/python3.6/dist-packages/tensorflow/python/framework/dtypes.py:520: FutureWarning: Passing (type, 1) or '1type' as a synonym of type is deprecated; in a future version of numpy, it will be understood as (type, (1,)) / '(1,)type'.\n",
            "  _np_qint32 = np.dtype([(\"qint32\", np.int32, 1)])\n",
            "/usr/local/lib/python3.6/dist-packages/tensorflow/python/framework/dtypes.py:525: FutureWarning: Passing (type, 1) or '1type' as a synonym of type is deprecated; in a future version of numpy, it will be understood as (type, (1,)) / '(1,)type'.\n",
            "  np_resource = np.dtype([(\"resource\", np.ubyte, 1)])\n",
            "/usr/local/lib/python3.6/dist-packages/tensorboard/compat/tensorflow_stub/dtypes.py:541: FutureWarning: Passing (type, 1) or '1type' as a synonym of type is deprecated; in a future version of numpy, it will be understood as (type, (1,)) / '(1,)type'.\n",
            "  _np_qint8 = np.dtype([(\"qint8\", np.int8, 1)])\n",
            "/usr/local/lib/python3.6/dist-packages/tensorboard/compat/tensorflow_stub/dtypes.py:542: FutureWarning: Passing (type, 1) or '1type' as a synonym of type is deprecated; in a future version of numpy, it will be understood as (type, (1,)) / '(1,)type'.\n",
            "  _np_quint8 = np.dtype([(\"quint8\", np.uint8, 1)])\n",
            "/usr/local/lib/python3.6/dist-packages/tensorboard/compat/tensorflow_stub/dtypes.py:543: FutureWarning: Passing (type, 1) or '1type' as a synonym of type is deprecated; in a future version of numpy, it will be understood as (type, (1,)) / '(1,)type'.\n",
            "  _np_qint16 = np.dtype([(\"qint16\", np.int16, 1)])\n",
            "/usr/local/lib/python3.6/dist-packages/tensorboard/compat/tensorflow_stub/dtypes.py:544: FutureWarning: Passing (type, 1) or '1type' as a synonym of type is deprecated; in a future version of numpy, it will be understood as (type, (1,)) / '(1,)type'.\n",
            "  _np_quint16 = np.dtype([(\"quint16\", np.uint16, 1)])\n",
            "/usr/local/lib/python3.6/dist-packages/tensorboard/compat/tensorflow_stub/dtypes.py:545: FutureWarning: Passing (type, 1) or '1type' as a synonym of type is deprecated; in a future version of numpy, it will be understood as (type, (1,)) / '(1,)type'.\n",
            "  _np_qint32 = np.dtype([(\"qint32\", np.int32, 1)])\n",
            "/usr/local/lib/python3.6/dist-packages/tensorboard/compat/tensorflow_stub/dtypes.py:550: FutureWarning: Passing (type, 1) or '1type' as a synonym of type is deprecated; in a future version of numpy, it will be understood as (type, (1,)) / '(1,)type'.\n",
            "  np_resource = np.dtype([(\"resource\", np.ubyte, 1)])\n"
          ],
          "name": "stderr"
        }
      ]
    },
    {
      "cell_type": "code",
      "metadata": {
        "id": "K1xU7WiJpBLz",
        "colab_type": "code",
        "colab": {}
      },
      "source": [
        "num_data = 1000\n",
        "\n",
        "def func(x):\n",
        "    val = 1.7 * x + 3\n",
        "    return val\n",
        "\n",
        "# generate a random dataset\n",
        "x = tf.random.normal([num_data], dtype=tf.double)\n",
        "x = tf.sort(x)\n",
        "y = func(x) + tf.random.normal([num_data], dtype=tf.double)"
      ],
      "execution_count": 0,
      "outputs": []
    },
    {
      "cell_type": "code",
      "metadata": {
        "id": "SOcpwILcv4sK",
        "colab_type": "code",
        "outputId": "06a6b9cb-eba4-43ea-898a-27f828ccbbdb",
        "colab": {
          "base_uri": "https://localhost:8080/",
          "height": 353
        }
      },
      "source": [
        "plt.figure(figsize=(8, 5))\n",
        "ax = plt.axes()\n",
        "ax.plot(x, y, \"o\", markersize=0.4)\n",
        "ax.set_xlabel(\"x_value\")\n",
        "ax.set_ylabel(\"y_value\")"
      ],
      "execution_count": 3,
      "outputs": [
        {
          "output_type": "execute_result",
          "data": {
            "text/plain": [
              "Text(0, 0.5, 'y_value')"
            ]
          },
          "metadata": {
            "tags": []
          },
          "execution_count": 3
        },
        {
          "output_type": "display_data",
          "data": {
            "image/png": "[encoded data removed]",
            "text/plain": [
              "<Figure size 576x360 with 1 Axes>"
            ]
          },
          "metadata": {
            "tags": []
          }
        }
      ]
    },
    {
      "cell_type": "code",
      "metadata": {
        "id": "dUhc4mfe81zd",
        "colab_type": "code",
        "colab": {}
      },
      "source": [
        "# create pipeline to feed data\n",
        "def input_fn(X, Y, epoch):\n",
        "  dataset = tf.data.Dataset.from_tensor_slices((X, Y))\n",
        "  dataset = dataset.batch(X.shape[0]).repeat(epoch)\n",
        "  return dataset.__iter__()\n",
        "\n",
        "@tf.function\n",
        "def predict(P, W):\n",
        "  return tf.matmul(P, W)\n",
        "\n",
        "@tf.function\n",
        "def loss_fn(Y_pred, Y):\n",
        "  s = tf.reduce_sum(tf.square(Y_pred - Y))\n",
        "  return s / (Y.shape[0] / 2)\n",
        "\n",
        "@tf.function\n",
        "def generate_P(X, dim=2):\n",
        "  P = tf.ones(shape=(X.shape[0], 1), dtype=tf.double)\n",
        "  for i in range(1, dim):\n",
        "    P = tf.concat((\n",
        "        P, tf.pow(X, i)\n",
        "    ), axis=1)\n",
        "  return P"
      ],
      "execution_count": 0,
      "outputs": []
    },
    {
      "cell_type": "code",
      "metadata": {
        "id": "nf-mz8X-JHd8",
        "colab_type": "code",
        "colab": {}
      },
      "source": [
        "X = tf.reshape(x, (num_data, 1))\n",
        "P = generate_P(X, 2)\n",
        "Y = tf.reshape(y, (num_data, 1))\n",
        "\n",
        "W = tf.Variable(tf.random.normal([2, 1], dtype=tf.double))"
      ],
      "execution_count": 0,
      "outputs": []
    },
    {
      "cell_type": "code",
      "metadata": {
        "id": "_jftxoziXTgE",
        "colab_type": "code",
        "outputId": "49ce64b9-1189-4cb7-c555-71b795f77304",
        "colab": {
          "base_uri": "https://localhost:8080/",
          "height": 71
        }
      },
      "source": [
        "# P and W are able to do matrix multiplication\n",
        "# the result and Y should have the same shape\n",
        "print(f\"dimension of P: {P.shape}\")\n",
        "print(f\"dimension of W: {W.shape}\")\n",
        "print(f\"dimension of Y: {Y.shape}\")"
      ],
      "execution_count": 6,
      "outputs": [
        {
          "output_type": "stream",
          "text": [
            "dimension of P: (1000, 2)\n",
            "dimension of W: (2, 1)\n",
            "dimension of Y: (1000, 1)\n"
          ],
          "name": "stdout"
        }
      ]
    },
    {
      "cell_type": "code",
      "metadata": {
        "colab_type": "code",
        "id": "iWdVaWGb9NC8",
        "outputId": "60834441-2b03-46e6-e3e7-e6dcc620fb2f",
        "colab": {
          "base_uri": "https://localhost:8080/",
          "height": 197
        }
      },
      "source": [
        "epochs = 50\n",
        "inputs = input_fn(P, Y, epochs)\n",
        "\n",
        "for e in range(1, epochs + 1):\n",
        "  with tf.GradientTape() as tape:\n",
        "    _P, _Y = inputs.get_next()\n",
        "    # print(_P.shape)\n",
        "    pred = predict(_P, W)\n",
        "    loss = loss_fn(pred, _Y)\n",
        "\n",
        "    if e % 5 == 0:\n",
        "      print(f\"epoch: {e:3d}, loss: {loss.numpy():5.3f}\")\n",
        "    \n",
        "    # get the gradients\n",
        "    [dW] = tape.gradient(loss, [W])\n",
        "    # apply gradients to W\n",
        "    W.assign_sub(0.01 * dW)"
      ],
      "execution_count": 7,
      "outputs": [
        {
          "output_type": "stream",
          "text": [
            "epoch:   5, loss: 21.240\n",
            "epoch:  10, loss: 14.774\n",
            "epoch:  15, loss: 10.470\n",
            "epoch:  20, loss: 7.604\n",
            "epoch:  25, loss: 5.694\n",
            "epoch:  30, loss: 4.421\n",
            "epoch:  35, loss: 3.573\n",
            "epoch:  40, loss: 3.007\n",
            "epoch:  45, loss: 2.630\n",
            "epoch:  50, loss: 2.378\n"
          ],
          "name": "stdout"
        }
      ]
    },
    {
      "cell_type": "code",
      "metadata": {
        "id": "RA5aoiJC7-PD",
        "colab_type": "code",
        "outputId": "f8b6454b-9f5d-487c-9d1a-fa79ab4f48af",
        "colab": {
          "base_uri": "https://localhost:8080/",
          "height": 353
        }
      },
      "source": [
        "plt.figure(figsize=(8, 5))\n",
        "ax = plt.axes()\n",
        "ax.plot(x, y, \"o\", markersize=0.4)\n",
        "ax.plot(x, predict(P, W))\n",
        "ax.set_xlabel(\"x_value\")\n",
        "ax.set_ylabel(\"y_value\")"
      ],
      "execution_count": 8,
      "outputs": [
        {
          "output_type": "execute_result",
          "data": {
            "text/plain": [
              "Text(0, 0.5, 'y_value')"
            ]
          },
          "metadata": {
            "tags": []
          },
          "execution_count": 8
        },
        {
          "output_type": "display_data",
          "data": {
            "image/png": "[encoded data removed]",
            "text/plain": [
              "<Figure size 576x360 with 1 Axes>"
            ]
          },
          "metadata": {
            "tags": []
          }
        }
      ]
    },
    {
      "cell_type": "markdown",
      "metadata": {
        "id": "Ae1YSNwUaKPs",
        "colab_type": "text"
      },
      "source": [
        "## **Polynomial Regression**\n",
        "\n",
        "We have discussed about **linear regression**, in fact, **polynomial regression** is very similar to that."
      ]
    },
    {
      "cell_type": "markdown",
      "metadata": {
        "colab_type": "text",
        "id": "5Lawq9qjacZc"
      },
      "source": [
        "### **Mathematics**"
      ]
    },
    {
      "cell_type": "markdown",
      "metadata": {
        "colab_type": "text",
        "id": "G9QRMaa_acZg"
      },
      "source": [
        "This time, out data is like below:\n",
        "\n",
        "![image.png](data:image/png;base64,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)\n",
        "\n",
        "It doesn't seem to be linear."
      ]
    },
    {
      "cell_type": "markdown",
      "metadata": {
        "colab_type": "text",
        "id": "4R5T1iYkacZj"
      },
      "source": [
        "Let's make some changes on our fitting function:\n",
        "\n",
        "$f(x)=w_{0}+w_{1}x+w_{2}x^2+w_{3}x^3$"
      ]
    },
    {
      "cell_type": "markdown",
      "metadata": {
        "colab_type": "text",
        "id": "tRiLl99gacZk"
      },
      "source": [
        "We can still write down each point $i$ of the data in a vector: \n",
        "\n",
        "$p_{i}=\\begin{bmatrix}\n",
        "1\\\\x_{i}\\\\x_{i}^2\\\\x_{i}^3\n",
        "\\end{bmatrix}$"
      ]
    },
    {
      "cell_type": "markdown",
      "metadata": {
        "colab_type": "text",
        "id": "DwWvSqY5acZm"
      },
      "source": [
        "Again, write them down in a matrix and then transpose it:\n",
        "\n",
        "$P=\n",
        "\\begin{bmatrix}\n",
        "1 & 1 & \\dots & 1\\\\\n",
        "x_{0} & x_{1} & \\dots & x_{n}\\\\\n",
        "x_{0}^2 & x_{1}^2 & \\dots & x_{n}^2\\\\\n",
        "x_{0}^3 & x_{1}^3 & \\dots & x_{n}^3\\\\\n",
        "\\end{bmatrix}^T\n",
        "=\\begin{bmatrix}\n",
        "1 & x_{0} & x_{0}^2 & x_{0}^3\\\\\n",
        "1 & x_{1} & x_{1}^2 & x_{1}^3\\\\\n",
        "\\vdots & \\vdots& \\vdots & \\vdots\\\\\n",
        "1 & x_{n} & x_{n}^2 & x_{n}^3\n",
        "\\end{bmatrix}$"
      ]
    },
    {
      "cell_type": "markdown",
      "metadata": {
        "colab_type": "text",
        "id": "w3B2AVfWacZo"
      },
      "source": [
        "Now, it's easy to write down $W$:\n",
        "\n",
        "$W=\\begin{bmatrix}\n",
        "w_{0}\\\\\n",
        "w_{1}\\\\\n",
        "w_{2}\\\\\n",
        "w_{3}\n",
        "\\end{bmatrix}$"
      ]
    },
    {
      "cell_type": "markdown",
      "metadata": {
        "colab_type": "text",
        "id": "FDyCtmz_acZp"
      },
      "source": [
        "After a long trip, we finally have:\n",
        "\n",
        "$\\begin{bmatrix}\n",
        "1 & x_{0} & x_{0}^2 & x_{0}^3\\\\\n",
        "1 & x_{1} & x_{1}^2 & x_{1}^3\\\\\n",
        "\\vdots & \\vdots& \\vdots & \\vdots\\\\\n",
        "1 & x_{n} & x_{n}^2 & x_{n}^3\n",
        "\\end{bmatrix}\n",
        "\\begin{bmatrix}\n",
        "w_{0}\\\\\n",
        "w_{1}\\\\\n",
        "w_{2}\\\\\n",
        "w_{3}\n",
        "\\end{bmatrix}=\n",
        "\\begin{bmatrix}\n",
        "w_{0}+w_{1}x_{0}+w_{2}x_{0}^2+w_{3}x_{0}^3\\\\ \n",
        "w_{0}+w_{1}x_{1}+w_{2}x_{1}^2+w_{3}x_{1}^3\\\\\n",
        "\\vdots\\\\\n",
        "w_{0}+w_{1}x_{n}+w_{2}x_{n}^2+w_{3}x_{n}^3\n",
        "\\end{bmatrix}=\n",
        "\\begin{bmatrix}\n",
        "\\hat{y_{0}}\\\\\n",
        "\\hat{y_{1}}\\\\\n",
        "\\vdots\\\\\n",
        "\\hat{y_{n}}\n",
        "\\end{bmatrix}$"
      ]
    },
    {
      "cell_type": "markdown",
      "metadata": {
        "colab_type": "text",
        "id": "DZJ_poDYacZq"
      },
      "source": [
        "The loss funtion **doesn't change at all**:\n",
        "\n",
        "$loss=\\sum_{i=0}^{N} \\frac{(\\hat{y_{i}}-y_{i})^2}{N}=\n",
        "sum(\n",
        "\\begin{bmatrix}\n",
        "(\\hat{y_{0}}-y_{0})^2\\\\\n",
        "(\\hat{y_{1}}-y_{1})^2\\\\\n",
        "\\vdots\\\\\n",
        "(\\hat{y_{n}}-y_{n})^2\n",
        "\\end{bmatrix}\n",
        ")$"
      ]
    },
    {
      "cell_type": "markdown",
      "metadata": {
        "colab_type": "text",
        "id": "5AWoAfFDacZr"
      },
      "source": [
        "$loss(W)=\n",
        "sum(\n",
        "(PW-Y)^2\n",
        ")$"
      ]
    },
    {
      "cell_type": "markdown",
      "metadata": {
        "id": "HaVv8dIpurul",
        "colab_type": "text"
      },
      "source": [
        "Now, hope you already found out how to train a simple model to fit our second data!"
      ]
    },
    {
      "cell_type": "code",
      "metadata": {
        "colab_type": "code",
        "id": "WkTigj2CvNxP",
        "colab": {}
      },
      "source": [
        "num_data = 1000\n",
        "\n",
        "def func(x):\n",
        "    val = 0.4 * x**3 + 0.2 * x**2 + 0.2 * x + 2\n",
        "    return val\n",
        "\n",
        "# generate a random dataset\n",
        "x = tf.random.normal([num_data], dtype=tf.double)\n",
        "x = tf.sort(x)\n",
        "y = func(x) + tf.random.normal([num_data], dtype=tf.double) * 2"
      ],
      "execution_count": 0,
      "outputs": []
    },
    {
      "cell_type": "code",
      "metadata": {
        "colab_type": "code",
        "outputId": "98df9125-8406-4262-a7f8-8c2bcc9e3389",
        "id": "n6d9w-H0vNxZ",
        "colab": {
          "base_uri": "https://localhost:8080/",
          "height": 353
        }
      },
      "source": [
        "plt.figure(figsize=(8, 5))\n",
        "ax = plt.axes()\n",
        "ax.plot(x, y, \"o\", markersize=0.4)\n",
        "ax.set_xlabel(\"x_value\")\n",
        "ax.set_ylabel(\"y_value\")"
      ],
      "execution_count": 10,
      "outputs": [
        {
          "output_type": "execute_result",
          "data": {
            "text/plain": [
              "Text(0, 0.5, 'y_value')"
            ]
          },
          "metadata": {
            "tags": []
          },
          "execution_count": 10
        },
        {
          "output_type": "display_data",
          "data": {
            "image/png": "[encoded data removed]",
            "text/plain": [
              "<Figure size 576x360 with 1 Axes>"
            ]
          },
          "metadata": {
            "tags": []
          }
        }
      ]
    },
    {
      "cell_type": "code",
      "metadata": {
        "colab_type": "code",
        "id": "AS4ZKjXmvNxf",
        "colab": {}
      },
      "source": [
        "# create pipeline to feed data\n",
        "def input_fn(X, Y, epoch):\n",
        "  dataset = tf.data.Dataset.from_tensor_slices((X, Y))\n",
        "  dataset = dataset.batch(X.shape[0]).repeat(epoch)\n",
        "  return dataset.__iter__()\n",
        "\n",
        "@tf.function\n",
        "def predict(P, W):\n",
        "  return tf.matmul(P, W)\n",
        "\n",
        "@tf.function\n",
        "def loss_fn(Y_pred, Y):\n",
        "  s = tf.reduce_sum(tf.square(Y_pred - Y))\n",
        "  return s / (Y.shape[0] * 2)\n",
        "\n",
        "@tf.function\n",
        "def generate_P(X, dim=2):\n",
        "  P = tf.ones(shape=(X.shape[0], 1), dtype=tf.double)\n",
        "  for i in range(1, dim):\n",
        "    P = tf.concat((\n",
        "        P, tf.pow(X, i)\n",
        "    ), axis=1)\n",
        "  return P"
      ],
      "execution_count": 0,
      "outputs": []
    },
    {
      "cell_type": "code",
      "metadata": {
        "colab_type": "code",
        "id": "OZIQLYPnvNxl",
        "colab": {}
      },
      "source": [
        "X = tf.reshape(x, (num_data, 1))\n",
        "P = generate_P(X, 4)\n",
        "Y = tf.reshape(y, (num_data, 1))\n",
        "\n",
        "W = tf.Variable(tf.random.normal([4, 1], dtype=tf.double))"
      ],
      "execution_count": 0,
      "outputs": []
    },
    {
      "cell_type": "code",
      "metadata": {
        "colab_type": "code",
        "outputId": "79c857e1-7304-452f-ee93-42652f813699",
        "id": "fn-NMn1AvNxo",
        "colab": {
          "base_uri": "https://localhost:8080/",
          "height": 71
        }
      },
      "source": [
        "# P and W are able to do matrix multiplication\n",
        "# the result and Y should have the same shape\n",
        "print(f\"dimension of P: {P.shape}\")\n",
        "print(f\"dimension of W: {W.shape}\")\n",
        "print(f\"dimension of Y: {Y.shape}\")"
      ],
      "execution_count": 13,
      "outputs": [
        {
          "output_type": "stream",
          "text": [
            "dimension of P: (1000, 4)\n",
            "dimension of W: (4, 1)\n",
            "dimension of Y: (1000, 1)\n"
          ],
          "name": "stdout"
        }
      ]
    },
    {
      "cell_type": "code",
      "metadata": {
        "colab_type": "code",
        "outputId": "5fc0d1bb-27ec-4113-dc57-e07ae797981f",
        "id": "xN9pmcPFvNxs",
        "colab": {
          "base_uri": "https://localhost:8080/",
          "height": 197
        }
      },
      "source": [
        "epochs = 50\n",
        "inputs = input_fn(P, Y, epochs)\n",
        "\n",
        "for e in range(1, epochs + 1):\n",
        "  with tf.GradientTape() as tape:\n",
        "    _P, _Y = inputs.get_next()\n",
        "    pred = predict(_P, W)\n",
        "    loss = loss_fn(pred, _Y)\n",
        "\n",
        "    if e % 5 == 0:\n",
        "      print(f\"epoch: {e:3d}, loss: {loss.numpy():5.3f}\")\n",
        "    \n",
        "    # get the gradients\n",
        "    [dW] = tape.gradient(loss, [W])\n",
        "    # apply gradients to W\n",
        "    W.assign_sub(0.01 * dW)"
      ],
      "execution_count": 14,
      "outputs": [
        {
          "output_type": "stream",
          "text": [
            "epoch:   5, loss: 5.297\n",
            "epoch:  10, loss: 2.915\n",
            "epoch:  15, loss: 2.448\n",
            "epoch:  20, loss: 2.321\n",
            "epoch:  25, loss: 2.264\n",
            "epoch:  30, loss: 2.229\n",
            "epoch:  35, loss: 2.204\n",
            "epoch:  40, loss: 2.186\n",
            "epoch:  45, loss: 2.172\n",
            "epoch:  50, loss: 2.161\n"
          ],
          "name": "stdout"
        }
      ]
    },
    {
      "cell_type": "code",
      "metadata": {
        "colab_type": "code",
        "outputId": "d2fc1dd7-7fcc-462b-f6d6-f84565b381c1",
        "id": "CS_Q8NEjvNxv",
        "colab": {
          "base_uri": "https://localhost:8080/",
          "height": 353
        }
      },
      "source": [
        "plt.figure(figsize=(8, 5))\n",
        "ax = plt.axes()\n",
        "ax.plot(x, y, \"o\", markersize=0.4)\n",
        "ax.plot(x, predict(P, W))\n",
        "ax.set_xlabel(\"x_value\")\n",
        "ax.set_ylabel(\"y_value\")"
      ],
      "execution_count": 15,
      "outputs": [
        {
          "output_type": "execute_result",
          "data": {
            "text/plain": [
              "Text(0, 0.5, 'y_value')"
            ]
          },
          "metadata": {
            "tags": []
          },
          "execution_count": 15
        },
        {
          "output_type": "display_data",
          "data": {
            "image/png": "[encoded data removed]",
            "text/plain": [
              "<Figure size 576x360 with 1 Axes>"
            ]
          },
          "metadata": {
            "tags": []
          }
        }
      ]
    },
    {
      "cell_type": "markdown",
      "metadata": {
        "id": "fdjx7zQHRVgs",
        "colab_type": "text"
      },
      "source": [
        "## **Test Model with Common Dataset**"
      ]
    },
    {
      "cell_type": "code",
      "metadata": {
        "id": "0gsH2n5MzF5l",
        "colab_type": "code",
        "colab": {}
      },
      "source": [
        "import pandas as pd\n",
        "url = \"https://raw.githubusercontent.com/tom1484/Tutorial-for-Polynomial-Regression/master/Position_Salaries.csv\"\n",
        "csv = pd.read_csv(url)"
      ],
      "execution_count": 0,
      "outputs": []
    },
    {
      "cell_type": "code",
      "metadata": {
        "id": "3gAgltztzdDz",
        "colab_type": "code",
        "colab": {}
      },
      "source": [
        "data = csv.to_numpy()[:,1:]\n",
        "num_data = data.shape[0]\n",
        "\n",
        "x = data[:,0].astype(np.double)\n",
        "y = data[:,1].astype(np.double)"
      ],
      "execution_count": 0,
      "outputs": []
    },
    {
      "cell_type": "code",
      "metadata": {
        "id": "fZWCB0jI2E08",
        "colab_type": "code",
        "outputId": "6fff3cf9-5592-41e2-937b-0d96b1d22af3",
        "colab": {
          "base_uri": "https://localhost:8080/",
          "height": 352
        }
      },
      "source": [
        "plt.figure(figsize=(8, 5))\n",
        "ax = plt.axes()\n",
        "ax.plot(x, y, \"o\", markersize=5)\n",
        "ax.set_xlabel(\"level\")\n",
        "ax.set_ylabel(\"salary\")"
      ],
      "execution_count": 18,
      "outputs": [
        {
          "output_type": "execute_result",
          "data": {
            "text/plain": [
              "Text(0, 0.5, 'salary')"
            ]
          },
          "metadata": {
            "tags": []
          },
          "execution_count": 18
        },
        {
          "output_type": "display_data",
          "data": {
            "image/png": "[encoded data removed]",
            "text/plain": [
              "<Figure size 576x360 with 1 Axes>"
            ]
          },
          "metadata": {
            "tags": []
          }
        }
      ]
    },
    {
      "cell_type": "markdown",
      "metadata": {
        "id": "3HrrESDD4Ss7",
        "colab_type": "text"
      },
      "source": [
        "Before training, let's put all the stuffs together!\n",
        "\n",
        "\\*note: We will use **normalization** below, you can go to [here](https://en.wikipedia.org/wiki/Normalization_(statistics))."
      ]
    },
    {
      "cell_type": "code",
      "metadata": {
        "id": "6C7wj01O35op",
        "colab_type": "code",
        "colab": {}
      },
      "source": [
        "class Regression:\n",
        "  def __init__(self, power):\n",
        "    self.power = power\n",
        "    self.W = tf.Variable(tf.random.normal([power, 1], dtype=tf.double))\n",
        "\n",
        "  def _input_fn(self, X, Y, epoch):\n",
        "    dataset = tf.data.Dataset.from_tensor_slices((X, Y))\n",
        "    dataset = dataset.batch(X.shape[0]).repeat(epoch)\n",
        "    return dataset.__iter__()\n",
        "\n",
        "  def _predict(self, P, W):\n",
        "    return tf.matmul(P, W)\n",
        "\n",
        "  def _loss_fn(self, Y_pred, Y):\n",
        "    s = tf.reduce_sum(tf.square(Y_pred - Y))\n",
        "    return s / (Y.shape[0] * 2)\n",
        "\n",
        "  def _generate_P(self, X, dim):\n",
        "    P = tf.ones(shape=(X.shape[0], 1), dtype=tf.double)\n",
        "    for i in range(1, dim):\n",
        "      P = tf.concat((\n",
        "          P, tf.pow(X, i)\n",
        "      ), axis=1)\n",
        "    return P\n",
        "\n",
        "  def _normalize(self, X, Y):\n",
        "    # for dataset X, normalization:\n",
        "    # (X - X_ave) / X_std\n",
        "    self.X_std = tf.math.reduce_std(X, axis=0)\n",
        "    self.X_ave = tf.reduce_mean(X)\n",
        "    self.Y_std = tf.math.reduce_std(Y, axis=0)\n",
        "    self.Y_ave = tf.reduce_mean(Y)\n",
        "    return (X - self.X_ave) / self.X_ave, (Y - self.Y_ave) / self.Y_std\n",
        "  \n",
        "  def predict(self, x):\n",
        "    X = (tf.reshape(x, (x.shape[0], 1)) - self.X_ave) / self.X_std\n",
        "    P = self._generate_P(X, self.power)\n",
        "    # do the reverse of normalization\n",
        "    return self._predict(P, self.W) * self.Y_std + self.Y_ave\n",
        "\n",
        "  def train(self, X, Y, learning_rate=0.01, epochs=10, num_print=10):\n",
        "    X, Y = self._normalize(X, Y)\n",
        "\n",
        "    P = self._generate_P(X, self.power)\n",
        "    inputs = self._input_fn(P, Y, epochs)\n",
        "\n",
        "    for e in range(1, epochs + 1):\n",
        "      with tf.GradientTape() as tape:\n",
        "        _P, _Y = inputs.get_next()\n",
        "        pred = self._predict(_P, self.W)\n",
        "        loss = self._loss_fn(pred, _Y)\n",
        "\n",
        "        if e % int(epochs / num_print) == 0:\n",
        "          print(f\"epoch: {e:3d}, loss: {loss.numpy():5.3f}\")\n",
        "        \n",
        "        # get the gradients\n",
        "        [dW] = tape.gradient(loss, [self.W])\n",
        "        # apply gradients to W\n",
        "        self.W.assign_sub(learning_rate * dW)"
      ],
      "execution_count": 0,
      "outputs": []
    },
    {
      "cell_type": "code",
      "metadata": {
        "id": "S9J219xpYbYz",
        "colab_type": "code",
        "colab": {}
      },
      "source": [
        "X = tf.reshape(x, (num_data, 1))\n",
        "Y = tf.reshape(y, (num_data, 1))"
      ],
      "execution_count": 0,
      "outputs": []
    },
    {
      "cell_type": "code",
      "metadata": {
        "id": "bXYkch836aku",
        "colab_type": "code",
        "outputId": "d3fe3a6e-3153-4afe-9b31-047dd013c1d2",
        "colab": {
          "base_uri": "https://localhost:8080/",
          "height": 197
        }
      },
      "source": [
        "model = Regression(3)\n",
        "model.train(X, Y, 0.1, 100, 10)"
      ],
      "execution_count": 21,
      "outputs": [
        {
          "output_type": "stream",
          "text": [
            "epoch:  10, loss: 0.738\n",
            "epoch:  20, loss: 0.486\n",
            "epoch:  30, loss: 0.344\n",
            "epoch:  40, loss: 0.258\n",
            "epoch:  50, loss: 0.204\n",
            "epoch:  60, loss: 0.170\n",
            "epoch:  70, loss: 0.146\n",
            "epoch:  80, loss: 0.130\n",
            "epoch:  90, loss: 0.117\n",
            "epoch: 100, loss: 0.108\n"
          ],
          "name": "stdout"
        }
      ]
    },
    {
      "cell_type": "code",
      "metadata": {
        "id": "7qr2Ii9s7qcY",
        "colab_type": "code",
        "outputId": "73e67a16-2710-4bc8-e79a-c32c331b407e",
        "colab": {
          "base_uri": "https://localhost:8080/",
          "height": 352
        }
      },
      "source": [
        "plt.figure(figsize=(8, 5))\n",
        "ax = plt.axes()\n",
        "ax.plot(x, y, \"o\", markersize=5)\n",
        "_x = np.arange(0, 10, 0.01)\n",
        "_x = _x.reshape((_x.shape[0]))\n",
        "ax.plot(_x, model.predict(_x))\n",
        "ax.set_xlabel(\"level\")\n",
        "ax.set_ylabel(\"salary\")"
      ],
      "execution_count": 22,
      "outputs": [
        {
          "output_type": "execute_result",
          "data": {
            "text/plain": [
              "Text(0, 0.5, 'salary')"
            ]
          },
          "metadata": {
            "tags": []
          },
          "execution_count": 22
        },
        {
          "output_type": "display_data",
          "data": {
            "image/png": "[encoded data removed]",
            "text/plain": [
              "<Figure size 576x360 with 1 Axes>"
            ]
          },
          "metadata": {
            "tags": []
          }
        }
      ]
    },
    {
      "cell_type": "markdown",
      "metadata": {
        "id": "dzH8Q9TxxS2Z",
        "colab_type": "text"
      },
      "source": [
        "## **Over Fitting**\n",
        "\n",
        "If you change the power of model up to 10 or more"
      ]
    },
    {
      "cell_type": "code",
      "metadata": {
        "colab_type": "code",
        "outputId": "d878f4ad-4dd3-47e3-a5d0-353f6a6505a1",
        "id": "_LVKDH0m1LEJ",
        "colab": {
          "base_uri": "https://localhost:8080/",
          "height": 197
        }
      },
      "source": [
        "model = Regression(10)\n",
        "model.train(X, Y, 0.00001, 100, 10)"
      ],
      "execution_count": 23,
      "outputs": [
        {
          "output_type": "stream",
          "text": [
            "epoch:  10, loss: 1.482\n",
            "epoch:  20, loss: 1.482\n",
            "epoch:  30, loss: 1.482\n",
            "epoch:  40, loss: 1.482\n",
            "epoch:  50, loss: 1.481\n",
            "epoch:  60, loss: 1.481\n",
            "epoch:  70, loss: 1.481\n",
            "epoch:  80, loss: 1.481\n",
            "epoch:  90, loss: 1.481\n",
            "epoch: 100, loss: 1.480\n"
          ],
          "name": "stdout"
        }
      ]
    },
    {
      "cell_type": "markdown",
      "metadata": {
        "id": "nRODg_dB2Lkp",
        "colab_type": "text"
      },
      "source": [
        "you might get this:"
      ]
    },
    {
      "cell_type": "code",
      "metadata": {
        "colab_type": "code",
        "outputId": "46865700-dcd7-4626-fe52-ea0209afa67e",
        "id": "JtRHymebxwUy",
        "colab": {
          "base_uri": "https://localhost:8080/",
          "height": 352
        }
      },
      "source": [
        "plt.figure(figsize=(8, 5))\n",
        "ax = plt.axes()\n",
        "ax.plot(x, y, \"o\", markersize=5)\n",
        "_x = np.arange(0, 10, 0.01)\n",
        "_x = _x.reshape((_x.shape[0]))\n",
        "ax.plot(_x, model.predict(_x))\n",
        "ax.set_xlabel(\"level\")\n",
        "ax.set_ylabel(\"salary\")"
      ],
      "execution_count": 24,
      "outputs": [
        {
          "output_type": "execute_result",
          "data": {
            "text/plain": [
              "Text(0, 0.5, 'salary')"
            ]
          },
          "metadata": {
            "tags": []
          },
          "execution_count": 24
        },
        {
          "output_type": "display_data",
          "data": {
            "image/png": "[encoded data removed]",
            "text/plain": [
              "<Figure size 576x360 with 1 Axes>"
            ]
          },
          "metadata": {
            "tags": []
          }
        }
      ]
    },
    {
      "cell_type": "markdown",
      "metadata": {
        "id": "rhbxeV2E1msb",
        "colab_type": "text"
      },
      "source": [
        "The model is trying hard to fit most of the data, but in the end, it became a monster!\n",
        "\n",
        "This is what we called **over-fitting**!\n",
        "\n",
        "Usually, over fitting causes that models fit thier training data very well but fail to fit new data, so always remember to **visualize** your training results to prevent models from over-fitting."
      ]
    }
  ]
}